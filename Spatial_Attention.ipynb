{
  "cells": [
    {
      "cell_type": "markdown",
      "metadata": {
        "id": "view-in-github",
        "colab_type": "text"
      },
      "source": [
        "<a href=\"https://colab.research.google.com/github/thyungkim/Exploring-Convolutional-Network-and-Transfer-Learning/blob/main/Spatial_Attention.ipynb\" target=\"_parent\"><img src=\"https://colab.research.google.com/assets/colab-badge.svg\" alt=\"Open In Colab\"/></a>"
      ]
    },
    {
      "cell_type": "code",
      "execution_count": 2,
      "metadata": {
        "id": "DvwsUf4jh2bC"
      },
      "outputs": [],
      "source": [
        "import torch\n",
        "import os\n",
        "from torch.autograd import Variable\n",
        "import math\n",
        "import torch.nn as nn\n",
        "from torch.nn.parameter import Parameter\n",
        "import torch.optim as optim"
      ]
    },
    {
      "cell_type": "code",
      "execution_count": null,
      "metadata": {
        "id": "_u9lIf3RHd-2"
      },
      "outputs": [],
      "source": [
        "#import scipy.io\n",
        "#data = scipy.io.loadmat('/content/drive/MyDrive/data.mat')"
      ]
    },
    {
      "cell_type": "code",
      "execution_count": null,
      "metadata": {
        "colab": {
          "base_uri": "https://localhost:8080/"
        },
        "id": "1HN9qUTAH5Op",
        "outputId": "cd14bbbb-11a3-4807-84e4-6093c9036df3"
      },
      "outputs": [
        {
          "name": "stdout",
          "output_type": "stream",
          "text": [
            "(273, 360, 7)\n"
          ]
        }
      ],
      "source": [
        "#x = data['data']\n",
        "#x = x[:, 1:3600:10, :]\n",
        "#print(x.shape)"
      ]
    },
    {
      "cell_type": "code",
      "execution_count": null,
      "metadata": {
        "id": "COwyIOab8t9Q"
      },
      "outputs": [],
      "source": [
        "def cos_vector(k, K):\n",
        "  cos_v = torch.zeros(273, K)\n",
        "  for l in range(K):\n",
        "    cos_v[:,l] = torch.cos(2*math.pi*(k*x[:, 0]+l*y[:, 0]))\n",
        "  return cos_v\n",
        "def sin_vector(k, K):\n",
        "  sin_v = torch.zeros(273, K)\n",
        "  for l in range(K):\n",
        "    sin_v[:,l] = torch.sin(2*math.pi*(k*x[:, 0]+l*y[:, 0]))\n",
        "  return sin_v"
      ]
    },
    {
      "cell_type": "code",
      "execution_count": null,
      "metadata": {
        "id": "EmBpvLtx8YwQ"
      },
      "outputs": [],
      "source": [
        "def SpatialAttentionFunc(in_channels, out_channels, X, x, y, z, K):\n",
        "  a = torch.randn(out_channels, in_channels)\n",
        "  for j in range(out_channels):\n",
        "    cos_sum = torch.zeros(in_channels)\n",
        "    sin_sum = torch.zeros(in_channels)\n",
        "    for k in range(K):\n",
        "      z_r = z[j, k, :].real\n",
        "      z_r = z_r.unsqueeze(0)\n",
        "      z_i = z[j, k, :].imag\n",
        "      z_i = z_i.unsqueeze(0)      \n",
        "      cos_k = torch.transpose(cos_vector(k, 32), 0, 1)\n",
        "      sin_k = torch.transpose(sin_vector(k, 32), 0, 1)\n",
        "      cos_sum = cos_sum + torch.mm(z_r, cos_k)\n",
        "      sin_sum = sin_sum + torch.mm(z_i, cos_k)\n",
        "    a[j, :] = cos_sum + sin_sum \n",
        "  SA = torch.randn(out_channels, 360)\n",
        "  for j in range(out_channels):\n",
        "    SA[j] = torch.mm(nn.functional.softmax(a[j,:].unsqueeze(0), -1), X)\n",
        "    exp1 = torch.mm(torch.exp(a[j, :]/100).unsqueeze(0), X)\n",
        "    exp2 = torch.sum(torch.exp(a[j, :]/100))\n",
        "    #SA[j] = exp1/exp2\n",
        "  return SA"
      ]
    },
    {
      "cell_type": "code",
      "source": [
        "class SubjectLayer(nn.Module):\n",
        "  def __init__(self):\n",
        "    super(SubjectLayer, self).__init__()\n",
        "    self.layers = {}\n",
        "\n",
        "    for i in range(124): #124 subjects\n",
        "      layer = nn.Conv2d(270, 270, 1)\n",
        "      self.layers[i] = layer\n",
        "      \n",
        "  def forward(self, x, s_idx):\n",
        "    for i in range(len(x)):\n",
        "      x[i] = self.layers[s_idx[i]](x[i])\n",
        "    return x"
      ],
      "metadata": {
        "id": "FDzJZiF43zYh"
      },
      "execution_count": 30,
      "outputs": []
    },
    {
      "cell_type": "code",
      "source": [
        "subject = SubjectLayer()\n",
        "\n",
        "x = torch.randn(3, 270, 360, 1)\n",
        "\n",
        "print(x.shape)\n",
        "output = subject(x, [0, 1, 2, 3])\n",
        "print(output.shape)"
      ],
      "metadata": {
        "id": "c0_iNhxsSaGu",
        "outputId": "b2d44444-7e11-437e-ef00-1241f71e12d1",
        "colab": {
          "base_uri": "https://localhost:8080/"
        }
      },
      "execution_count": 29,
      "outputs": [
        {
          "output_type": "stream",
          "name": "stdout",
          "text": [
            "torch.Size([3, 270, 360, 1])\n",
            "torch.Size([3, 270, 360, 1])\n"
          ]
        }
      ]
    },
    {
      "cell_type": "code",
      "execution_count": null,
      "metadata": {
        "id": "OLOFnXXq92XT"
      },
      "outputs": [],
      "source": [
        "class SpatialAttention(nn.Module):\n",
        "  def __init__(self,in_channels, out_channels, K):\n",
        "    super(SpatialAttention, self).__init__()\n",
        "    self.out = out_channels\n",
        "    self.input = in_channels\n",
        "    self.K = K\n",
        "    self.z = Parameter(torch.randn(out_channels, K, K, dtype = torch.cfloat))\n",
        "    #self.z_I = Parameter(torch.randn(N, K, K))\n",
        "    self.z.requiresGrad = True\n",
        "    #self.z_I.requiresGrad = True\n",
        "  def forward(self, X, x, y):\n",
        "    N = X.size()[0]\n",
        "    SA = torch.zeros(N, 270, 360)\n",
        "    for i in range(N):\n",
        "      SA[i] = SpatialAttentionFunc(self.input, self.out, X[i], x, y, self.z, self.K)\n",
        "    return SA"
      ]
    },
    {
      "cell_type": "code",
      "execution_count": null,
      "metadata": {
        "id": "-eimM0SRDeMI"
      },
      "outputs": [],
      "source": [
        "class Net(nn.Module):\n",
        "  def __init__(self):\n",
        "    super(Net, self).__init__()\n",
        "    self.SA = SpatialAttention(273, 270, 32)\n",
        "    self.Subject = SubjectLayer()\n",
        "  def Conv(self,in_channels, out_channels, dilation, filter, padding): # should not have a wrapper for a same one-liner\n",
        "    return nn.Conv2d(in_channels, out_channels, (filter, 1), dilation = dilation, padding = (padding, 0))\n",
        "  def forward(self, x, x_coord, y_coord, F):\n",
        "    x = self.SA(x, x_coord, y_coord).unsqueeze(0)\n",
        "    x = torch.permute(x, (1, 2, 3, 0)) # subject attention?\n",
        "    x = nn.Conv2d(270, 270, (1, 1))(x)\n",
        "    x = self.Subject(x, s_idx)\n",
        "    print(x.shape)\n",
        "    for k in range(1,6):\n",
        "      p = pow(2,(2*k)%5)\n",
        "      q = pow(2,(2*k+1)%5)\n",
        "      if k == 1:\n",
        "        x = nn.Conv2d(270, 320, (3, 1), dilation = 1, padding = (1, 0))(x)\n",
        "        x = nn.BatchNorm2d(320)(x)\n",
        "        x = nn.GELU()(x)\n",
        "        x = nn.Conv2d(320, 320, (3, 1), dilation = 1, padding = (1, 0))(x)\n",
        "        x = nn.BatchNorm2d(320)(x)\n",
        "        x = nn.GELU()(x)\n",
        "        x = nn.Conv2d(320, 640, (3, 1), dilation = 2, padding = (2, 0))(x)\n",
        "        #x = self.Conv(270, 320, 1, 3, 1)(x) # missing batch norm, and GELU\n",
        "        #x = self.Conv(320, 320, 1, 3, 1)(x) # missing batch norm, and GELU\n",
        "        #x = self.Conv(320, 640, 2, 3, 2)(x)\n",
        "        x = torch.transpose(x, 3, 1)\n",
        "        x = nn.GLU()(x)\n",
        "        x = torch.transpose(x, 3, 1)\n",
        "      else:\n",
        "        x1 = nn.Conv2d(320, 320, (3, 1), dilation = p, padding = (p, 0))(x)\n",
        "        x1 = nn.BatchNorm2d(320)(x1)\n",
        "        x1 = nn.GELU()(x1)\n",
        "        x2 = x + x1\n",
        "        x3 = nn.Conv2d(320, 320, (3, 1), dilation = q, padding = (q, 0))(x2)\n",
        "        x3 = nn.BatchNorm2d(320)(x3)\n",
        "        x3 = nn.GELU()(x3)\n",
        "        x4 = x2 + x2\n",
        "        x_out = nn.Conv2d(320, 640, (3, 1), dilation = 2, padding = (2, 0))(x4)\n",
        "        #x1 = self.Conv(320, 320, p, 3, p)(x)\n",
        "        #x2 = x + x1\n",
        "        #x3 = self.Conv(320, 320, q, 3, q)(x2)\n",
        "        #x4 = x2 + x3\n",
        "        #x_out = self.Conv(320, 640, 2, 3, 2)(x4)\n",
        "        x_out = torch.transpose(x_out, 3, 1)\n",
        "        x_out = nn.GLU()(x_out)\n",
        "        x_out = torch.transpose(x_out, 3, 1)\n",
        "    x_out = self.Conv(320, 640, 1, 1, 0)(x_out)\n",
        "    x_out = nn.GELU()(x_out)\n",
        "    x_out = nn.Conv2d(640, F, (1, 1))(x_out)\n",
        "    # missing GELU\n",
        "    # missing 1 more conv\n",
        "    return x_out"
      ]
    },
    {
      "cell_type": "code",
      "execution_count": null,
      "metadata": {
        "id": "4sRFl6_gWtYG"
      },
      "outputs": [],
      "source": [
        "def CLIP_loss(Z, Y):\n",
        "  N = Y.size(dim = 0)\n",
        "  inner_product = torch.zeros(N, N)\n",
        "  log_softmax = torch.zeros(N)\n",
        "  for i in range(N):\n",
        "    for j in range(N):\n",
        "      Z_row = torch.reshape(Z[i], (-1,))\n",
        "      Y_row = torch.reshape(Y[j], (-1,))\n",
        "      inner_product[i, j] = torch.dot(Z_row, Y_row)/100\n",
        "  for i in range(N):\n",
        "    inn = inner_product[i, :]\n",
        "    log_softmax[i] = torch.log(nn.functional.softmax(inn, -1))[i]\n",
        "  return sum(-1*log_softmax)"
      ]
    },
    {
      "cell_type": "code",
      "execution_count": null,
      "metadata": {
        "colab": {
          "base_uri": "https://localhost:8080/",
          "height": 397
        },
        "id": "kMvqWx77cAMy",
        "outputId": "e98aad56-a7bc-4460-9a8f-58184ee740e0"
      },
      "outputs": [
        {
          "output_type": "stream",
          "name": "stdout",
          "text": [
            "torch.Size([2, 270, 360, 1])\n",
            "tensor(1.3519, grad_fn=<AddBackward0>)\n"
          ]
        },
        {
          "output_type": "error",
          "ename": "KeyboardInterrupt",
          "evalue": "ignored",
          "traceback": [
            "\u001b[0;31m---------------------------------------------------------------------------\u001b[0m",
            "\u001b[0;31mKeyboardInterrupt\u001b[0m                         Traceback (most recent call last)",
            "\u001b[0;32m<ipython-input-12-b9285eae7548>\u001b[0m in \u001b[0;36m<module>\u001b[0;34m\u001b[0m\n\u001b[1;32m      6\u001b[0m   \u001b[0mnet\u001b[0m \u001b[0;34m=\u001b[0m \u001b[0mNet\u001b[0m\u001b[0;34m(\u001b[0m\u001b[0;34m)\u001b[0m\u001b[0;34m\u001b[0m\u001b[0;34m\u001b[0m\u001b[0m\n\u001b[1;32m      7\u001b[0m   \u001b[0moptimizer\u001b[0m \u001b[0;34m=\u001b[0m \u001b[0moptim\u001b[0m\u001b[0;34m.\u001b[0m\u001b[0mSGD\u001b[0m\u001b[0;34m(\u001b[0m\u001b[0mnet\u001b[0m\u001b[0;34m.\u001b[0m\u001b[0mparameters\u001b[0m\u001b[0;34m(\u001b[0m\u001b[0;34m)\u001b[0m\u001b[0;34m,\u001b[0m \u001b[0mlr\u001b[0m\u001b[0;34m=\u001b[0m\u001b[0;36m0.003\u001b[0m\u001b[0;34m,\u001b[0m \u001b[0mmomentum\u001b[0m\u001b[0;34m=\u001b[0m\u001b[0;36m0.9\u001b[0m\u001b[0;34m)\u001b[0m\u001b[0;34m\u001b[0m\u001b[0;34m\u001b[0m\u001b[0m\n\u001b[0;32m----> 8\u001b[0;31m   \u001b[0mZ\u001b[0m \u001b[0;34m=\u001b[0m \u001b[0mnet\u001b[0m\u001b[0;34m(\u001b[0m\u001b[0mX\u001b[0m\u001b[0;34m,\u001b[0m \u001b[0mx\u001b[0m\u001b[0;34m,\u001b[0m \u001b[0my\u001b[0m\u001b[0;34m,\u001b[0m \u001b[0;36m640\u001b[0m\u001b[0;34m)\u001b[0m\u001b[0;34m\u001b[0m\u001b[0;34m\u001b[0m\u001b[0m\n\u001b[0m\u001b[1;32m      9\u001b[0m   \u001b[0mZ\u001b[0m \u001b[0;34m=\u001b[0m \u001b[0mZ\u001b[0m\u001b[0;34m[\u001b[0m\u001b[0;34m:\u001b[0m\u001b[0;34m,\u001b[0m \u001b[0;34m:\u001b[0m\u001b[0;34m,\u001b[0m \u001b[0;34m:\u001b[0m\u001b[0;34m,\u001b[0m \u001b[0;36m0\u001b[0m\u001b[0;34m]\u001b[0m\u001b[0;34m\u001b[0m\u001b[0;34m\u001b[0m\u001b[0m\n\u001b[1;32m     10\u001b[0m   \u001b[0mloss\u001b[0m \u001b[0;34m=\u001b[0m \u001b[0mCLIP_loss\u001b[0m\u001b[0;34m(\u001b[0m\u001b[0mZ\u001b[0m\u001b[0;34m,\u001b[0m \u001b[0mY\u001b[0m\u001b[0;34m)\u001b[0m\u001b[0;34m\u001b[0m\u001b[0;34m\u001b[0m\u001b[0m\n",
            "\u001b[0;32m/usr/local/lib/python3.8/dist-packages/torch/nn/modules/module.py\u001b[0m in \u001b[0;36m_call_impl\u001b[0;34m(self, *input, **kwargs)\u001b[0m\n\u001b[1;32m   1188\u001b[0m         if not (self._backward_hooks or self._forward_hooks or self._forward_pre_hooks or _global_backward_hooks\n\u001b[1;32m   1189\u001b[0m                 or _global_forward_hooks or _global_forward_pre_hooks):\n\u001b[0;32m-> 1190\u001b[0;31m             \u001b[0;32mreturn\u001b[0m \u001b[0mforward_call\u001b[0m\u001b[0;34m(\u001b[0m\u001b[0;34m*\u001b[0m\u001b[0minput\u001b[0m\u001b[0;34m,\u001b[0m \u001b[0;34m**\u001b[0m\u001b[0mkwargs\u001b[0m\u001b[0;34m)\u001b[0m\u001b[0;34m\u001b[0m\u001b[0;34m\u001b[0m\u001b[0m\n\u001b[0m\u001b[1;32m   1191\u001b[0m         \u001b[0;31m# Do not call functions when jit is used\u001b[0m\u001b[0;34m\u001b[0m\u001b[0;34m\u001b[0m\u001b[0;34m\u001b[0m\u001b[0m\n\u001b[1;32m   1192\u001b[0m         \u001b[0mfull_backward_hooks\u001b[0m\u001b[0;34m,\u001b[0m \u001b[0mnon_full_backward_hooks\u001b[0m \u001b[0;34m=\u001b[0m \u001b[0;34m[\u001b[0m\u001b[0;34m]\u001b[0m\u001b[0;34m,\u001b[0m \u001b[0;34m[\u001b[0m\u001b[0;34m]\u001b[0m\u001b[0;34m\u001b[0m\u001b[0;34m\u001b[0m\u001b[0m\n",
            "\u001b[0;32m<ipython-input-11-6d5335beec70>\u001b[0m in \u001b[0;36mforward\u001b[0;34m(self, x, x_coord, y_coord, F)\u001b[0m\n\u001b[1;32m      6\u001b[0m     \u001b[0;32mreturn\u001b[0m \u001b[0mnn\u001b[0m\u001b[0;34m.\u001b[0m\u001b[0mConv2d\u001b[0m\u001b[0;34m(\u001b[0m\u001b[0min_channels\u001b[0m\u001b[0;34m,\u001b[0m \u001b[0mout_channels\u001b[0m\u001b[0;34m,\u001b[0m \u001b[0;34m(\u001b[0m\u001b[0mfilter\u001b[0m\u001b[0;34m,\u001b[0m \u001b[0;36m1\u001b[0m\u001b[0;34m)\u001b[0m\u001b[0;34m,\u001b[0m \u001b[0mdilation\u001b[0m \u001b[0;34m=\u001b[0m \u001b[0mdilation\u001b[0m\u001b[0;34m,\u001b[0m \u001b[0mpadding\u001b[0m \u001b[0;34m=\u001b[0m \u001b[0;34m(\u001b[0m\u001b[0mpadding\u001b[0m\u001b[0;34m,\u001b[0m \u001b[0;36m0\u001b[0m\u001b[0;34m)\u001b[0m\u001b[0;34m)\u001b[0m\u001b[0;34m\u001b[0m\u001b[0;34m\u001b[0m\u001b[0m\n\u001b[1;32m      7\u001b[0m   \u001b[0;32mdef\u001b[0m \u001b[0mforward\u001b[0m\u001b[0;34m(\u001b[0m\u001b[0mself\u001b[0m\u001b[0;34m,\u001b[0m \u001b[0mx\u001b[0m\u001b[0;34m,\u001b[0m \u001b[0mx_coord\u001b[0m\u001b[0;34m,\u001b[0m \u001b[0my_coord\u001b[0m\u001b[0;34m,\u001b[0m \u001b[0mF\u001b[0m\u001b[0;34m)\u001b[0m\u001b[0;34m:\u001b[0m\u001b[0;34m\u001b[0m\u001b[0;34m\u001b[0m\u001b[0m\n\u001b[0;32m----> 8\u001b[0;31m     \u001b[0mx\u001b[0m \u001b[0;34m=\u001b[0m \u001b[0mself\u001b[0m\u001b[0;34m.\u001b[0m\u001b[0mSA\u001b[0m\u001b[0;34m(\u001b[0m\u001b[0mx\u001b[0m\u001b[0;34m,\u001b[0m \u001b[0mx_coord\u001b[0m\u001b[0;34m,\u001b[0m \u001b[0my_coord\u001b[0m\u001b[0;34m)\u001b[0m\u001b[0;34m.\u001b[0m\u001b[0munsqueeze\u001b[0m\u001b[0;34m(\u001b[0m\u001b[0;36m0\u001b[0m\u001b[0;34m)\u001b[0m\u001b[0;34m\u001b[0m\u001b[0;34m\u001b[0m\u001b[0m\n\u001b[0m\u001b[1;32m      9\u001b[0m     \u001b[0mx\u001b[0m \u001b[0;34m=\u001b[0m \u001b[0mtorch\u001b[0m\u001b[0;34m.\u001b[0m\u001b[0mpermute\u001b[0m\u001b[0;34m(\u001b[0m\u001b[0mx\u001b[0m\u001b[0;34m,\u001b[0m \u001b[0;34m(\u001b[0m\u001b[0;36m1\u001b[0m\u001b[0;34m,\u001b[0m \u001b[0;36m2\u001b[0m\u001b[0;34m,\u001b[0m \u001b[0;36m3\u001b[0m\u001b[0;34m,\u001b[0m \u001b[0;36m0\u001b[0m\u001b[0;34m)\u001b[0m\u001b[0;34m)\u001b[0m \u001b[0;31m# subject attention?\u001b[0m\u001b[0;34m\u001b[0m\u001b[0;34m\u001b[0m\u001b[0m\n\u001b[1;32m     10\u001b[0m     \u001b[0mx\u001b[0m \u001b[0;34m=\u001b[0m \u001b[0mnn\u001b[0m\u001b[0;34m.\u001b[0m\u001b[0mConv2d\u001b[0m\u001b[0;34m(\u001b[0m\u001b[0;36m270\u001b[0m\u001b[0;34m,\u001b[0m \u001b[0;36m270\u001b[0m\u001b[0;34m,\u001b[0m \u001b[0;34m(\u001b[0m\u001b[0;36m1\u001b[0m\u001b[0;34m,\u001b[0m \u001b[0;36m1\u001b[0m\u001b[0;34m)\u001b[0m\u001b[0;34m)\u001b[0m\u001b[0;34m(\u001b[0m\u001b[0mx\u001b[0m\u001b[0;34m)\u001b[0m\u001b[0;34m\u001b[0m\u001b[0;34m\u001b[0m\u001b[0m\n",
            "\u001b[0;32m/usr/local/lib/python3.8/dist-packages/torch/nn/modules/module.py\u001b[0m in \u001b[0;36m_call_impl\u001b[0;34m(self, *input, **kwargs)\u001b[0m\n\u001b[1;32m   1188\u001b[0m         if not (self._backward_hooks or self._forward_hooks or self._forward_pre_hooks or _global_backward_hooks\n\u001b[1;32m   1189\u001b[0m                 or _global_forward_hooks or _global_forward_pre_hooks):\n\u001b[0;32m-> 1190\u001b[0;31m             \u001b[0;32mreturn\u001b[0m \u001b[0mforward_call\u001b[0m\u001b[0;34m(\u001b[0m\u001b[0;34m*\u001b[0m\u001b[0minput\u001b[0m\u001b[0;34m,\u001b[0m \u001b[0;34m**\u001b[0m\u001b[0mkwargs\u001b[0m\u001b[0;34m)\u001b[0m\u001b[0;34m\u001b[0m\u001b[0;34m\u001b[0m\u001b[0m\n\u001b[0m\u001b[1;32m   1191\u001b[0m         \u001b[0;31m# Do not call functions when jit is used\u001b[0m\u001b[0;34m\u001b[0m\u001b[0;34m\u001b[0m\u001b[0;34m\u001b[0m\u001b[0m\n\u001b[1;32m   1192\u001b[0m         \u001b[0mfull_backward_hooks\u001b[0m\u001b[0;34m,\u001b[0m \u001b[0mnon_full_backward_hooks\u001b[0m \u001b[0;34m=\u001b[0m \u001b[0;34m[\u001b[0m\u001b[0;34m]\u001b[0m\u001b[0;34m,\u001b[0m \u001b[0;34m[\u001b[0m\u001b[0;34m]\u001b[0m\u001b[0;34m\u001b[0m\u001b[0;34m\u001b[0m\u001b[0m\n",
            "\u001b[0;32m<ipython-input-5-3ad0828af6b3>\u001b[0m in \u001b[0;36mforward\u001b[0;34m(self, X, x, y)\u001b[0m\n\u001b[1;32m     13\u001b[0m     \u001b[0mSA\u001b[0m \u001b[0;34m=\u001b[0m \u001b[0mtorch\u001b[0m\u001b[0;34m.\u001b[0m\u001b[0mzeros\u001b[0m\u001b[0;34m(\u001b[0m\u001b[0mN\u001b[0m\u001b[0;34m,\u001b[0m \u001b[0;36m270\u001b[0m\u001b[0;34m,\u001b[0m \u001b[0;36m360\u001b[0m\u001b[0;34m)\u001b[0m\u001b[0;34m\u001b[0m\u001b[0;34m\u001b[0m\u001b[0m\n\u001b[1;32m     14\u001b[0m     \u001b[0;32mfor\u001b[0m \u001b[0mi\u001b[0m \u001b[0;32min\u001b[0m \u001b[0mrange\u001b[0m\u001b[0;34m(\u001b[0m\u001b[0mN\u001b[0m\u001b[0;34m)\u001b[0m\u001b[0;34m:\u001b[0m\u001b[0;34m\u001b[0m\u001b[0;34m\u001b[0m\u001b[0m\n\u001b[0;32m---> 15\u001b[0;31m       \u001b[0mSA\u001b[0m\u001b[0;34m[\u001b[0m\u001b[0mi\u001b[0m\u001b[0;34m]\u001b[0m \u001b[0;34m=\u001b[0m \u001b[0mSpatialAttentionFunc\u001b[0m\u001b[0;34m(\u001b[0m\u001b[0mself\u001b[0m\u001b[0;34m.\u001b[0m\u001b[0minput\u001b[0m\u001b[0;34m,\u001b[0m \u001b[0mself\u001b[0m\u001b[0;34m.\u001b[0m\u001b[0mout\u001b[0m\u001b[0;34m,\u001b[0m \u001b[0mX\u001b[0m\u001b[0;34m[\u001b[0m\u001b[0mi\u001b[0m\u001b[0;34m]\u001b[0m\u001b[0;34m,\u001b[0m \u001b[0mx\u001b[0m\u001b[0;34m,\u001b[0m \u001b[0my\u001b[0m\u001b[0;34m,\u001b[0m \u001b[0mself\u001b[0m\u001b[0;34m.\u001b[0m\u001b[0mz\u001b[0m\u001b[0;34m,\u001b[0m \u001b[0mself\u001b[0m\u001b[0;34m.\u001b[0m\u001b[0mK\u001b[0m\u001b[0;34m)\u001b[0m\u001b[0;34m\u001b[0m\u001b[0;34m\u001b[0m\u001b[0m\n\u001b[0m\u001b[1;32m     16\u001b[0m     \u001b[0;32mreturn\u001b[0m \u001b[0mSA\u001b[0m\u001b[0;34m\u001b[0m\u001b[0;34m\u001b[0m\u001b[0m\n",
            "\u001b[0;32m<ipython-input-3-8b334e8b9ac2>\u001b[0m in \u001b[0;36mSpatialAttentionFunc\u001b[0;34m(in_channels, out_channels, X, x, y, z, K)\u001b[0m\n\u001b[1;32m     10\u001b[0m       \u001b[0mz_i\u001b[0m \u001b[0;34m=\u001b[0m \u001b[0mz_i\u001b[0m\u001b[0;34m.\u001b[0m\u001b[0munsqueeze\u001b[0m\u001b[0;34m(\u001b[0m\u001b[0;36m0\u001b[0m\u001b[0;34m)\u001b[0m\u001b[0;34m\u001b[0m\u001b[0;34m\u001b[0m\u001b[0m\n\u001b[1;32m     11\u001b[0m       \u001b[0mcos_k\u001b[0m \u001b[0;34m=\u001b[0m \u001b[0mtorch\u001b[0m\u001b[0;34m.\u001b[0m\u001b[0mtranspose\u001b[0m\u001b[0;34m(\u001b[0m\u001b[0mcos_vector\u001b[0m\u001b[0;34m(\u001b[0m\u001b[0mk\u001b[0m\u001b[0;34m,\u001b[0m \u001b[0;36m32\u001b[0m\u001b[0;34m)\u001b[0m\u001b[0;34m,\u001b[0m \u001b[0;36m0\u001b[0m\u001b[0;34m,\u001b[0m \u001b[0;36m1\u001b[0m\u001b[0;34m)\u001b[0m\u001b[0;34m\u001b[0m\u001b[0;34m\u001b[0m\u001b[0m\n\u001b[0;32m---> 12\u001b[0;31m       \u001b[0msin_k\u001b[0m \u001b[0;34m=\u001b[0m \u001b[0mtorch\u001b[0m\u001b[0;34m.\u001b[0m\u001b[0mtranspose\u001b[0m\u001b[0;34m(\u001b[0m\u001b[0msin_vector\u001b[0m\u001b[0;34m(\u001b[0m\u001b[0mk\u001b[0m\u001b[0;34m,\u001b[0m \u001b[0;36m32\u001b[0m\u001b[0;34m)\u001b[0m\u001b[0;34m,\u001b[0m \u001b[0;36m0\u001b[0m\u001b[0;34m,\u001b[0m \u001b[0;36m1\u001b[0m\u001b[0;34m)\u001b[0m\u001b[0;34m\u001b[0m\u001b[0;34m\u001b[0m\u001b[0m\n\u001b[0m\u001b[1;32m     13\u001b[0m       \u001b[0mcos_sum\u001b[0m \u001b[0;34m=\u001b[0m \u001b[0mcos_sum\u001b[0m \u001b[0;34m+\u001b[0m \u001b[0mtorch\u001b[0m\u001b[0;34m.\u001b[0m\u001b[0mmm\u001b[0m\u001b[0;34m(\u001b[0m\u001b[0mz_r\u001b[0m\u001b[0;34m,\u001b[0m \u001b[0mcos_k\u001b[0m\u001b[0;34m)\u001b[0m\u001b[0;34m\u001b[0m\u001b[0;34m\u001b[0m\u001b[0m\n\u001b[1;32m     14\u001b[0m       \u001b[0msin_sum\u001b[0m \u001b[0;34m=\u001b[0m \u001b[0msin_sum\u001b[0m \u001b[0;34m+\u001b[0m \u001b[0mtorch\u001b[0m\u001b[0;34m.\u001b[0m\u001b[0mmm\u001b[0m\u001b[0;34m(\u001b[0m\u001b[0mz_i\u001b[0m\u001b[0;34m,\u001b[0m \u001b[0mcos_k\u001b[0m\u001b[0;34m)\u001b[0m\u001b[0;34m\u001b[0m\u001b[0;34m\u001b[0m\u001b[0m\n",
            "\u001b[0;32m<ipython-input-2-3dd63db09fd9>\u001b[0m in \u001b[0;36msin_vector\u001b[0;34m(k, K)\u001b[0m\n\u001b[1;32m      7\u001b[0m   \u001b[0msin_v\u001b[0m \u001b[0;34m=\u001b[0m \u001b[0mtorch\u001b[0m\u001b[0;34m.\u001b[0m\u001b[0mzeros\u001b[0m\u001b[0;34m(\u001b[0m\u001b[0;36m273\u001b[0m\u001b[0;34m,\u001b[0m \u001b[0mK\u001b[0m\u001b[0;34m)\u001b[0m\u001b[0;34m\u001b[0m\u001b[0;34m\u001b[0m\u001b[0m\n\u001b[1;32m      8\u001b[0m   \u001b[0;32mfor\u001b[0m \u001b[0ml\u001b[0m \u001b[0;32min\u001b[0m \u001b[0mrange\u001b[0m\u001b[0;34m(\u001b[0m\u001b[0mK\u001b[0m\u001b[0;34m)\u001b[0m\u001b[0;34m:\u001b[0m\u001b[0;34m\u001b[0m\u001b[0;34m\u001b[0m\u001b[0m\n\u001b[0;32m----> 9\u001b[0;31m     \u001b[0msin_v\u001b[0m\u001b[0;34m[\u001b[0m\u001b[0;34m:\u001b[0m\u001b[0;34m,\u001b[0m\u001b[0ml\u001b[0m\u001b[0;34m]\u001b[0m \u001b[0;34m=\u001b[0m \u001b[0mtorch\u001b[0m\u001b[0;34m.\u001b[0m\u001b[0msin\u001b[0m\u001b[0;34m(\u001b[0m\u001b[0;36m2\u001b[0m\u001b[0;34m*\u001b[0m\u001b[0mmath\u001b[0m\u001b[0;34m.\u001b[0m\u001b[0mpi\u001b[0m\u001b[0;34m*\u001b[0m\u001b[0;34m(\u001b[0m\u001b[0mk\u001b[0m\u001b[0;34m*\u001b[0m\u001b[0mx\u001b[0m\u001b[0;34m[\u001b[0m\u001b[0;34m:\u001b[0m\u001b[0;34m,\u001b[0m \u001b[0;36m0\u001b[0m\u001b[0;34m]\u001b[0m\u001b[0;34m+\u001b[0m\u001b[0ml\u001b[0m\u001b[0;34m*\u001b[0m\u001b[0my\u001b[0m\u001b[0;34m[\u001b[0m\u001b[0;34m:\u001b[0m\u001b[0;34m,\u001b[0m \u001b[0;36m0\u001b[0m\u001b[0;34m]\u001b[0m\u001b[0;34m)\u001b[0m\u001b[0;34m)\u001b[0m\u001b[0;34m\u001b[0m\u001b[0;34m\u001b[0m\u001b[0m\n\u001b[0m\u001b[1;32m     10\u001b[0m   \u001b[0;32mreturn\u001b[0m \u001b[0msin_v\u001b[0m\u001b[0;34m\u001b[0m\u001b[0;34m\u001b[0m\u001b[0m\n",
            "\u001b[0;31mKeyboardInterrupt\u001b[0m: "
          ]
        }
      ],
      "source": [
        "X = torch.randn(2, 273, 360)\n",
        "Y = torch.randn(2, 640, 360)\n",
        "x = torch.randn(273, 1)\n",
        "y = torch.randn(273, 1)\n",
        "for i in range(10):\n",
        "  net = Net()\n",
        "  optimizer = optim.SGD(net.parameters(), lr=0.003, momentum=0.9)\n",
        "  Z = net(X, x, y, 640)\n",
        "  Z = Z[:, :, :, 0]\n",
        "  loss = CLIP_loss(Z, Y)\n",
        "  optimizer.zero_grad()\n",
        "  loss.backward()\n",
        "  print(loss)\n",
        "  optimizer.step()"
      ]
    }
  ],
  "metadata": {
    "colab": {
      "provenance": [],
      "include_colab_link": true
    },
    "kernelspec": {
      "display_name": "Python 3",
      "name": "python3"
    },
    "language_info": {
      "name": "python"
    }
  },
  "nbformat": 4,
  "nbformat_minor": 0
}